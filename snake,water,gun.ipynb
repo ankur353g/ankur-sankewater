{
 "cells": [
  {
   "cell_type": "code",
   "execution_count": 13,
   "id": "290d5281",
   "metadata": {},
   "outputs": [
    {
     "name": "stdout",
     "output_type": "stream",
     "text": [
      "comp turn : sanke(s) water(w) gum(g)\n",
      "your turn :sanke(s) water(w) gum(g) g\n",
      "computer choice w\n",
      "your choice g\n",
      "you loose\n"
     ]
    }
   ],
   "source": [
    "import random\n",
    "\n",
    "def gamewin(comp,you) :\n",
    "    if comp == you :\n",
    "        return\n",
    "    elif comp == \"s\" :\n",
    "         if you == \"w\" :\n",
    "            return False\n",
    "         elif you == \"g\" :\n",
    "            return True\n",
    "        \n",
    "    elif comp == \"w\" :\n",
    "         if you == \"g\" :\n",
    "            return False\n",
    "         elif you == \"s\" :\n",
    "            return True\n",
    "\n",
    "    elif comp == \"g\" :\n",
    "         if you == \"s\" :\n",
    "            return False\n",
    "         elif you == \"w\" :\n",
    "            return True\n",
    "\n",
    "\n",
    "\n",
    "\n",
    "print(\"comp turn : sanke(s) water(w) gum(g)\")\n",
    "randno = random.randint(1,3)\n",
    "\n",
    "if randno == 1 :\n",
    "    comp =\"s\"\n",
    "elif randno == 2 :\n",
    "    comp = \"w\"\n",
    "elif randno == 3 :\n",
    "    comp = \"g\"\n",
    "\n",
    "you = input('your turn :sanke(s) water(w) gum(g) ')\n",
    "\n",
    "\n",
    "\n",
    "print(f\"computer choice {comp}\")            #f string to print value\n",
    "print(f\"your choice {you}\")\n",
    "\n",
    "a = gamewin(comp,you)\n",
    "\n",
    "if a== None :\n",
    "    print('tie')\n",
    "elif a== True :\n",
    "    print('you win')\n",
    "    \n",
    "else:\n",
    "    print(\"you loose\")"
   ]
  },
  {
   "cell_type": "code",
   "execution_count": null,
   "id": "892b0b1b",
   "metadata": {},
   "outputs": [],
   "source": []
  },
  {
   "cell_type": "code",
   "execution_count": null,
   "id": "2645d066",
   "metadata": {},
   "outputs": [],
   "source": []
  }
 ],
 "metadata": {
  "kernelspec": {
   "display_name": "Python 3 (ipykernel)",
   "language": "python",
   "name": "python3"
  },
  "language_info": {
   "codemirror_mode": {
    "name": "ipython",
    "version": 3
   },
   "file_extension": ".py",
   "mimetype": "text/x-python",
   "name": "python",
   "nbconvert_exporter": "python",
   "pygments_lexer": "ipython3",
   "version": "3.10.6"
  }
 },
 "nbformat": 4,
 "nbformat_minor": 5
}
